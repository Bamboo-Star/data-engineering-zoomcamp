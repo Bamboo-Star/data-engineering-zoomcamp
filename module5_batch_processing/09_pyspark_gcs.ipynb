{
 "cells": [
  {
   "cell_type": "code",
   "execution_count": 29,
   "id": "1a1e3b16-abbc-4ed7-9e58-6638813921ba",
   "metadata": {},
   "outputs": [],
   "source": [
    "import pyspark\n",
    "from pyspark.sql import SparkSession\n",
    "from pyspark.sql import functions as F"
   ]
  },
  {
   "cell_type": "code",
   "execution_count": null,
   "id": "548af93c-ee19-44fb-a6b0-57639b45acc0",
   "metadata": {},
   "outputs": [],
   "source": [
    "credentials_location = '/Users/xiaozhuxin/.google/credentials/google_credentials.json'\n",
    "\n",
    "conf = SparkConf() \\\n",
    "    .setMaster('spark://MacBook-Air-2.local:7077') \\\n",
    "    .setAppName('test') \\\n",
    "    .set(\"spark.jars\", \"./lib/gcs-connector-hadoop3-2.2.5.jar\") \\\n",
    "    .set(\"spark.hadoop.google.cloud.auth.service.account.enable\", \"true\") \\\n",
    "    .set(\"spark.hadoop.google.cloud.auth.service.account.json.keyfile\", credentials_location)"
   ]
  },
  {
   "cell_type": "code",
   "execution_count": null,
   "id": "dd3d91ba-9a87-41f2-9a32-1e984198606c",
   "metadata": {},
   "outputs": [],
   "source": [
    "sc = SparkContext(conf=conf)\n",
    "\n",
    "hadoop_conf = sc._jsc.hadoopConfiguration()\n",
    "\n",
    "hadoop_conf.set(\"fs.AbstractFileSystem.gs.impl\",  \"com.google.cloud.hadoop.fs.gcs.GoogleHadoopFS\")\n",
    "hadoop_conf.set(\"fs.gs.impl\", \"com.google.cloud.hadoop.fs.gcs.GoogleHadoopFileSystem\")\n",
    "hadoop_conf.set(\"fs.gs.auth.service.account.json.keyfile\", credentials_location)\n",
    "hadoop_conf.set(\"fs.gs.auth.service.account.enable\", \"true\")"
   ]
  },
  {
   "cell_type": "code",
   "execution_count": 13,
   "id": "1d241a10-5d7e-488a-8355-4690dfa34c3e",
   "metadata": {},
   "outputs": [
    {
     "name": "stderr",
     "output_type": "stream",
     "text": [
      "25/04/11 21:44:52 WARN SparkSession: Using an existing Spark session; only runtime SQL configurations will take effect.\n"
     ]
    }
   ],
   "source": [
    "spark = SparkSession.builder \\\n",
    "    .config(conf=sc.getConf()) \\\n",
    "    .getOrCreate()"
   ]
  },
  {
   "cell_type": "code",
   "execution_count": 14,
   "id": "8f3f146e-28bf-453c-a1e0-e21364477d9a",
   "metadata": {},
   "outputs": [
    {
     "name": "stderr",
     "output_type": "stream",
     "text": [
      "                                                                                \r"
     ]
    }
   ],
   "source": [
    "df_green = spark.read.parquet('gs://terraform-introduction-449023-terra-bucket/pq/green/*/*')"
   ]
  },
  {
   "cell_type": "code",
   "execution_count": 15,
   "id": "57c5a064-9ad8-49fb-9cdb-ed8f85dd3e88",
   "metadata": {
    "scrolled": true
   },
   "outputs": [
    {
     "name": "stderr",
     "output_type": "stream",
     "text": [
      "                                                                                \r"
     ]
    },
    {
     "data": {
      "text/plain": [
       "2304517"
      ]
     },
     "execution_count": 15,
     "metadata": {},
     "output_type": "execute_result"
    }
   ],
   "source": [
    "df_green.count()"
   ]
  },
  {
   "cell_type": "code",
   "execution_count": 16,
   "id": "df41417d-ac4a-4fb0-affb-9a0f0dcc74e2",
   "metadata": {},
   "outputs": [
    {
     "name": "stderr",
     "output_type": "stream",
     "text": [
      "/usr/local/Cellar/apache-spark/3.5.5/libexec/python/pyspark/sql/dataframe.py:329: FutureWarning: Deprecated in 2.0, use createOrReplaceTempView instead.\n",
      "  warnings.warn(\"Deprecated in 2.0, use createOrReplaceTempView instead.\", FutureWarning)\n"
     ]
    }
   ],
   "source": [
    "df_green.registerTempTable('green')"
   ]
  },
  {
   "cell_type": "code",
   "execution_count": 17,
   "id": "24434659-a87e-44ed-9142-7707467035c3",
   "metadata": {},
   "outputs": [],
   "source": [
    "df_green_revenue = spark.sql(\"\"\"\n",
    "    SELECT \n",
    "        -- Revenue grouping \n",
    "        date_trunc('hour', lpep_pickup_datetime) AS hour,\n",
    "        PULocationID AS zone,\n",
    "        SUM(total_amount) AS amount,\n",
    "        COUNT(1) AS number_records\n",
    "    FROM \n",
    "        green\n",
    "    WHERE\n",
    "        lpep_pickup_datetime >= '2020-01-01 00:00:00'\n",
    "    GROUP BY \n",
    "        1, 2\n",
    "    \"\"\")"
   ]
  },
  {
   "cell_type": "code",
   "execution_count": 18,
   "id": "dd225eec-0326-439b-a889-0ee85049851b",
   "metadata": {},
   "outputs": [],
   "source": [
    "# df_green_revenue.write.mode('overwrite').parquet('data/report/revenue/green/')"
   ]
  },
  {
   "cell_type": "code",
   "execution_count": 19,
   "id": "dcc0a436-3224-4026-a966-6343422c6f4e",
   "metadata": {},
   "outputs": [
    {
     "name": "stderr",
     "output_type": "stream",
     "text": [
      "                                                                                \r"
     ]
    }
   ],
   "source": [
    "df_yellow = spark.read.parquet('gs://terraform-introduction-449023-terra-bucket/pq/yellow/*/*')"
   ]
  },
  {
   "cell_type": "code",
   "execution_count": 20,
   "id": "0afcfa11-b13e-4abc-9d9d-1f79caa37cbe",
   "metadata": {},
   "outputs": [],
   "source": [
    "df_yellow.registerTempTable('yellow')"
   ]
  },
  {
   "cell_type": "code",
   "execution_count": 21,
   "id": "527035c2-fe4e-42a6-9b2b-1889f5a79d05",
   "metadata": {},
   "outputs": [],
   "source": [
    "df_yellow_revenue = spark.sql(\"\"\"\n",
    "    SELECT \n",
    "        -- Revenue grouping \n",
    "        date_trunc('hour', tpep_pickup_datetime) AS hour,\n",
    "        PULocationID AS zone,\n",
    "        SUM(total_amount) AS amount,\n",
    "        COUNT(1) AS number_records\n",
    "    FROM \n",
    "        yellow\n",
    "    WHERE\n",
    "        tpep_pickup_datetime >= '2020-01-01 00:00:00'\n",
    "    GROUP BY \n",
    "        1, 2\n",
    "    \"\"\")"
   ]
  },
  {
   "cell_type": "code",
   "execution_count": 22,
   "id": "27ef545d-d689-48eb-9eff-4f4d40c693fc",
   "metadata": {},
   "outputs": [],
   "source": [
    "# df_yellow_revenue.write.mode('overwrite').parquet('data/report/revenue/yellow/')"
   ]
  },
  {
   "cell_type": "code",
   "execution_count": 23,
   "id": "e8418bd2-5f23-4ea0-8bbd-a87cb8cf138b",
   "metadata": {},
   "outputs": [],
   "source": [
    "df_green = df_green \\\n",
    "    .withColumnRenamed('lpep_pickup_datetime', 'pickup_datetime') \\\n",
    "    .withColumnRenamed('lpep_dropoff_datetime', 'dropoff_datetime')"
   ]
  },
  {
   "cell_type": "code",
   "execution_count": 24,
   "id": "7180cec8-13b5-4e2e-828c-2b5a3d132309",
   "metadata": {},
   "outputs": [],
   "source": [
    "df_yellow = df_yellow \\\n",
    "    .withColumnRenamed('tpep_pickup_datetime', 'pickup_datetime') \\\n",
    "    .withColumnRenamed('tpep_dropoff_datetime', 'dropoff_datetime')"
   ]
  },
  {
   "cell_type": "code",
   "execution_count": 25,
   "id": "a0c5a0e5-899c-447f-8662-f46b892a7abd",
   "metadata": {},
   "outputs": [],
   "source": [
    "common_columns = []\n",
    "\n",
    "yellow_columns = set(df_yellow.columns)\n",
    "for col in df_green.columns:\n",
    "        if col in yellow_columns:\n",
    "            common_columns.append(col)"
   ]
  },
  {
   "cell_type": "code",
   "execution_count": 26,
   "id": "abffff14-249b-4445-a6ec-f1e7d634fd76",
   "metadata": {},
   "outputs": [
    {
     "data": {
      "text/plain": [
       "['VendorID',\n",
       " 'pickup_datetime',\n",
       " 'dropoff_datetime',\n",
       " 'store_and_fwd_flag',\n",
       " 'RatecodeID',\n",
       " 'PULocationID',\n",
       " 'DOLocationID',\n",
       " 'passenger_count',\n",
       " 'trip_distance',\n",
       " 'fare_amount',\n",
       " 'extra',\n",
       " 'mta_tax',\n",
       " 'tip_amount',\n",
       " 'tolls_amount',\n",
       " 'improvement_surcharge',\n",
       " 'total_amount',\n",
       " 'payment_type',\n",
       " 'congestion_surcharge']"
      ]
     },
     "execution_count": 26,
     "metadata": {},
     "output_type": "execute_result"
    }
   ],
   "source": [
    "common_columns"
   ]
  },
  {
   "cell_type": "code",
   "execution_count": 30,
   "id": "49249725-5cf8-44bc-be37-fb9e08c6931a",
   "metadata": {},
   "outputs": [],
   "source": [
    "df_green_filter = df_green \\\n",
    "    .select(common_columns) \\\n",
    "    .withColumn('service_type', F.lit('green'))"
   ]
  },
  {
   "cell_type": "code",
   "execution_count": 31,
   "id": "5bd9df7b-c1ee-4e5d-a8c1-70b9eaa7f490",
   "metadata": {},
   "outputs": [],
   "source": [
    "df_yellow_filter = df_yellow \\\n",
    "    .select(common_columns) \\\n",
    "    .withColumn('service_type', F.lit('yellow'))"
   ]
  },
  {
   "cell_type": "code",
   "execution_count": 32,
   "id": "4bc8b967-9428-4202-8726-299cd3abc9b3",
   "metadata": {},
   "outputs": [],
   "source": [
    "df_trips_data = df_green_filter.unionAll(df_yellow_filter)"
   ]
  },
  {
   "cell_type": "code",
   "execution_count": 33,
   "id": "a83a9996-6d3f-422e-ad58-bc058c0818a1",
   "metadata": {},
   "outputs": [
    {
     "name": "stderr",
     "output_type": "stream",
     "text": [
      "                                                                                \r"
     ]
    },
    {
     "name": "stdout",
     "output_type": "stream",
     "text": [
      "+------------+--------+\n",
      "|service_type|   count|\n",
      "+------------+--------+\n",
      "|       green| 2304517|\n",
      "|      yellow|39649199|\n",
      "+------------+--------+\n",
      "\n"
     ]
    }
   ],
   "source": [
    "df_trips_data.groupBy('service_type').count().show()"
   ]
  },
  {
   "cell_type": "code",
   "execution_count": 34,
   "id": "740bdd9c-bc8f-4b70-b6b5-e6993400476e",
   "metadata": {},
   "outputs": [],
   "source": [
    "df_trips_data.registerTempTable('trips_data')"
   ]
  },
  {
   "cell_type": "code",
   "execution_count": 35,
   "id": "76fe504f-071b-4a99-b51e-68ea60b3927d",
   "metadata": {},
   "outputs": [],
   "source": [
    "df_result = spark.sql(\"\"\"\n",
    "    SELECT \n",
    "        -- Revenue grouping \n",
    "        PULocationID AS revenue_zone,\n",
    "        date_trunc('month', pickup_datetime) AS revenue_month, \n",
    "        service_type, \n",
    "    \n",
    "        -- Revenue calculation \n",
    "        SUM(fare_amount) AS revenue_monthly_fare,\n",
    "        SUM(extra) AS revenue_monthly_extra,\n",
    "        SUM(mta_tax) AS revenue_monthly_mta_tax,\n",
    "        SUM(tip_amount) AS revenue_monthly_tip_amount,\n",
    "        SUM(tolls_amount) AS revenue_monthly_tolls_amount,\n",
    "        SUM(improvement_surcharge) AS revenue_monthly_improvement_surcharge,\n",
    "        SUM(total_amount) AS revenue_monthly_total_amount,\n",
    "    \n",
    "        -- Additional calculations\n",
    "        AVG(passenger_count) AS avg_monthly_passenger_count,\n",
    "        AVG(trip_distance) AS avg_monthly_trip_distance\n",
    "    \n",
    "    FROM \n",
    "        trips_data\n",
    "    GROUP BY \n",
    "        1, 2, 3\n",
    "    \"\"\")"
   ]
  },
  {
   "cell_type": "code",
   "execution_count": 36,
   "id": "e7b7445c-5e86-4f02-b723-bb89c9191a1a",
   "metadata": {
    "scrolled": true
   },
   "outputs": [
    {
     "name": "stderr",
     "output_type": "stream",
     "text": [
      "[Stage 8:======================================================>  (19 + 1) / 20]\r"
     ]
    },
    {
     "name": "stdout",
     "output_type": "stream",
     "text": [
      "+------------+-------------------+------------+--------------------+---------------------+-----------------------+--------------------------+----------------------------+-------------------------------------+----------------------------+---------------------------+-------------------------+\n",
      "|revenue_zone|      revenue_month|service_type|revenue_monthly_fare|revenue_monthly_extra|revenue_monthly_mta_tax|revenue_monthly_tip_amount|revenue_monthly_tolls_amount|revenue_monthly_improvement_surcharge|revenue_monthly_total_amount|avg_monthly_passenger_count|avg_monthly_trip_distance|\n",
      "+------------+-------------------+------------+--------------------+---------------------+-----------------------+--------------------------+----------------------------+-------------------------------------+----------------------------+---------------------------+-------------------------+\n",
      "|         218|2020-01-01 00:00:00|       green|  24689.350000000126|              1561.75|                  121.5|                      18.7|           735.9000000000004|                    246.0000000000036|          27375.149999999958|         1.0754716981132075|        6.732052451539335|\n",
      "|          85|2020-01-01 00:00:00|       green|   19874.88000000006|               1476.5|                  187.5|        165.89999999999998|           354.6800000000002|                   233.70000000000314|            22320.9099999999|         1.3349753694581281|       4.4563455149501605|\n",
      "|         116|2019-12-01 00:00:00|       green|               21.59|                  1.0|                    1.0|                      4.95|                         0.0|                   0.8999999999999999|          29.439999999999998|                        1.0|       0.6366666666666666|\n",
      "|          93|2020-02-01 00:00:00|       green|  3652.9799999999996|                131.0|                   45.0|                    148.47|           87.96999999999998|                    39.60000000000005|           4123.470000000002|          1.380952380952381|        6.566783216783216|\n",
      "|         143|2020-02-01 00:00:00|       green|  1420.3600000000004|               130.25|                    3.0|                       0.0|           73.43999999999998|                   13.800000000000004|          1640.8500000000001|                        1.0|        8.347391304347827|\n",
      "|         225|2020-02-01 00:00:00|       green|  41648.030000000086|              3508.75|                  396.5|        367.58000000000004|           671.9200000000004|                   506.40000000000776|           47254.72999999985|         1.1892332789559543|        4.282854030501086|\n",
      "|         112|2020-01-01 00:00:00|       green|  21761.030000000017|               1034.0|                  703.0|        2487.4200000000014|           308.6100000000001|                    452.7000000000114|           27470.10999999962|         1.2766407904022583|       3.4783365695792865|\n",
      "|         250|2020-02-01 00:00:00|       green|  15359.960000000034|               1282.5|                  117.5|                     56.01|           590.3200000000004|                   179.99999999999926|           17598.43999999997|         1.2394957983193278|        4.962810650887571|\n",
      "|          63|2020-02-01 00:00:00|       green|  10573.399999999998|                759.5|                   57.0|        32.830000000000005|          405.85000000000014|                    99.29999999999968|          11934.529999999997|         1.0609756097560976|        7.083547486033517|\n",
      "|         221|2020-02-01 00:00:00|       green|  438.09000000000003|                  7.5|                    2.5|                      3.45|                        91.8|                                  2.1|           545.4399999999999|                        1.0|       19.342857142857145|\n",
      "|         158|2020-02-01 00:00:00|       green|              124.36|                 8.25|                    0.5|                       0.0|                         2.8|                   0.8999999999999999|                      136.81|                       NULL|       11.090000000000002|\n",
      "|          67|2020-02-01 00:00:00|       green|   7261.509999999997|               515.25|                   41.0|                     15.71|          234.85000000000005|                    69.29999999999991|           8141.520000000001|         1.1016949152542372|        475.5992692307694|\n",
      "|          39|2020-01-01 00:00:00|       green|   60305.34999999994|               3876.0|                  491.0|                     29.63|          1069.9199999999996|                    561.0000000000063|           66334.85000000037|         1.2745098039215685|        6.203130280124502|\n",
      "|          26|2020-01-01 00:00:00|       green|   27098.79000000009|              1743.25|                  221.5|        121.73000000000002|           551.2800000000003|                   292.50000000000534|           30034.89999999984|         1.1054852320675106|        4.771315789473691|\n",
      "|         147|2020-02-01 00:00:00|       green|   8909.839999999991|                678.5|                   74.5|                     42.99|           323.6400000000001|                   105.29999999999968|          10140.270000000011|                    1.14375|        4.952959183673468|\n",
      "|         165|2020-01-01 00:00:00|       green|  24802.129999999997|               1549.0|                  189.5|        101.14999999999998|          495.95000000000033|                   268.80000000000445|           27427.27999999993|         1.1891891891891893|        4.462666025024061|\n",
      "|         193|2020-01-01 00:00:00|       green|  22288.570000000032|              1121.25|                  659.0|        1335.6800000000003|           232.4600000000001|                    497.7000000000131|           27003.40999999962|         1.1738019169329073|       2.6420300362506453|\n",
      "|         124|2020-01-01 00:00:00|       green|   7916.269999999997|                464.5|                   52.5|                     15.56|          285.27000000000004|                    74.99999999999964|                      8809.1|         1.0185185185185186|         7.09040590405904|\n",
      "|         244|2020-01-01 00:00:00|       green|   186755.7100000006|              6773.25|                 4933.0|        19220.349999999868|           3665.569999999985|                   3244.2000000005064|           232629.0299999776|           1.33827209930924|        4.355255763688768|\n",
      "|         136|2020-01-01 00:00:00|       green|   26839.71000000001|               1675.5|                  215.0|                      93.9|           692.2500000000002|                   273.90000000000464|          29808.709999999803|         1.1654411764705883|        5.947148325358854|\n",
      "+------------+-------------------+------------+--------------------+---------------------+-----------------------+--------------------------+----------------------------+-------------------------------------+----------------------------+---------------------------+-------------------------+\n",
      "only showing top 20 rows\n",
      "\n"
     ]
    },
    {
     "name": "stderr",
     "output_type": "stream",
     "text": [
      "                                                                                \r"
     ]
    }
   ],
   "source": [
    "df_result.show()"
   ]
  },
  {
   "cell_type": "code",
   "execution_count": 36,
   "id": "7c067053-dbcf-4b7f-8b49-25814489dc86",
   "metadata": {},
   "outputs": [
    {
     "name": "stderr",
     "output_type": "stream",
     "text": [
      "                                                                                \r"
     ]
    }
   ],
   "source": [
    "# df_result.coalesce(1).write.mode(\"overwrite\").parquet('data/report/revenue/')"
   ]
  },
  {
   "cell_type": "code",
   "execution_count": 37,
   "id": "137c78e7-52e0-40d3-bd3b-f0f95921217d",
   "metadata": {},
   "outputs": [],
   "source": [
    "spark.stop()"
   ]
  },
  {
   "cell_type": "code",
   "execution_count": null,
   "id": "0d1c5b6d-428e-461a-9cf7-c8b7dba286a0",
   "metadata": {},
   "outputs": [],
   "source": []
  }
 ],
 "metadata": {
  "kernelspec": {
   "display_name": "Python 3 (ipykernel)",
   "language": "python",
   "name": "python3"
  },
  "language_info": {
   "codemirror_mode": {
    "name": "ipython",
    "version": 3
   },
   "file_extension": ".py",
   "mimetype": "text/x-python",
   "name": "python",
   "nbconvert_exporter": "python",
   "pygments_lexer": "ipython3",
   "version": "3.12.7"
  }
 },
 "nbformat": 4,
 "nbformat_minor": 5
}
