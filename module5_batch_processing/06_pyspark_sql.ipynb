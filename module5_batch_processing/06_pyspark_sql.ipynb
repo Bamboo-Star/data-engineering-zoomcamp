{
 "cells": [
  {
   "cell_type": "code",
   "execution_count": 1,
   "id": "1a1e3b16-abbc-4ed7-9e58-6638813921ba",
   "metadata": {},
   "outputs": [],
   "source": [
    "from pyspark.sql import SparkSession\n",
    "from pyspark.sql import functions as F"
   ]
  },
  {
   "cell_type": "code",
   "execution_count": 2,
   "id": "f2e7c3a2-f56b-40bf-b9f3-53cf0dc167be",
   "metadata": {},
   "outputs": [
    {
     "name": "stderr",
     "output_type": "stream",
     "text": [
      "25/03/05 18:34:21 WARN Utils: Your hostname, MacBook-Air-2.local resolves to a loopback address: 127.0.0.1; using 10.23.121.1 instead (on interface en0)\n",
      "25/03/05 18:34:21 WARN Utils: Set SPARK_LOCAL_IP if you need to bind to another address\n",
      "Setting default log level to \"WARN\".\n",
      "To adjust logging level use sc.setLogLevel(newLevel). For SparkR, use setLogLevel(newLevel).\n",
      "25/03/05 18:34:22 WARN NativeCodeLoader: Unable to load native-hadoop library for your platform... using builtin-java classes where applicable\n"
     ]
    }
   ],
   "source": [
    "spark = SparkSession.builder \\\n",
    "    .master(\"local[*]\") \\\n",
    "    .appName('test') \\\n",
    "    .getOrCreate()"
   ]
  },
  {
   "cell_type": "code",
   "execution_count": 3,
   "id": "8f3f146e-28bf-453c-a1e0-e21364477d9a",
   "metadata": {},
   "outputs": [
    {
     "name": "stderr",
     "output_type": "stream",
     "text": [
      "                                                                                \r"
     ]
    }
   ],
   "source": [
    "df_green = spark.read.parquet('data/pq/green/*/*')"
   ]
  },
  {
   "cell_type": "code",
   "execution_count": 4,
   "id": "57c5a064-9ad8-49fb-9cdb-ed8f85dd3e88",
   "metadata": {},
   "outputs": [
    {
     "name": "stdout",
     "output_type": "stream",
     "text": [
      "root\n",
      " |-- VendorID: integer (nullable = true)\n",
      " |-- lpep_pickup_datetime: timestamp (nullable = true)\n",
      " |-- lpep_dropoff_datetime: timestamp (nullable = true)\n",
      " |-- store_and_fwd_flag: string (nullable = true)\n",
      " |-- RatecodeID: integer (nullable = true)\n",
      " |-- PULocationID: integer (nullable = true)\n",
      " |-- DOLocationID: integer (nullable = true)\n",
      " |-- passenger_count: integer (nullable = true)\n",
      " |-- trip_distance: double (nullable = true)\n",
      " |-- fare_amount: double (nullable = true)\n",
      " |-- extra: double (nullable = true)\n",
      " |-- mta_tax: double (nullable = true)\n",
      " |-- tip_amount: double (nullable = true)\n",
      " |-- tolls_amount: double (nullable = true)\n",
      " |-- ehail_fee: double (nullable = true)\n",
      " |-- improvement_surcharge: double (nullable = true)\n",
      " |-- total_amount: double (nullable = true)\n",
      " |-- payment_type: integer (nullable = true)\n",
      " |-- trip_type: integer (nullable = true)\n",
      " |-- congestion_surcharge: double (nullable = true)\n",
      "\n"
     ]
    }
   ],
   "source": [
    "df_green.printSchema()"
   ]
  },
  {
   "cell_type": "code",
   "execution_count": 5,
   "id": "7f7cd6f7-ed4b-4da0-bc50-4f5867ec3d42",
   "metadata": {},
   "outputs": [
    {
     "data": {
      "text/plain": [
       "['VendorID',\n",
       " 'lpep_pickup_datetime',\n",
       " 'lpep_dropoff_datetime',\n",
       " 'store_and_fwd_flag',\n",
       " 'RatecodeID',\n",
       " 'PULocationID',\n",
       " 'DOLocationID',\n",
       " 'passenger_count',\n",
       " 'trip_distance',\n",
       " 'fare_amount',\n",
       " 'extra',\n",
       " 'mta_tax',\n",
       " 'tip_amount',\n",
       " 'tolls_amount',\n",
       " 'ehail_fee',\n",
       " 'improvement_surcharge',\n",
       " 'total_amount',\n",
       " 'payment_type',\n",
       " 'trip_type',\n",
       " 'congestion_surcharge']"
      ]
     },
     "execution_count": 5,
     "metadata": {},
     "output_type": "execute_result"
    }
   ],
   "source": [
    "df_green.columns"
   ]
  },
  {
   "cell_type": "code",
   "execution_count": 6,
   "id": "8702041a-700c-454e-b647-9d6f8efb5392",
   "metadata": {},
   "outputs": [],
   "source": [
    "df_yellow = spark.read.parquet('data/pq/yellow/*/*')"
   ]
  },
  {
   "cell_type": "code",
   "execution_count": 7,
   "id": "4c9f3b9a-e899-4650-9630-039abc4c1ff5",
   "metadata": {},
   "outputs": [
    {
     "name": "stdout",
     "output_type": "stream",
     "text": [
      "root\n",
      " |-- VendorID: integer (nullable = true)\n",
      " |-- tpep_pickup_datetime: timestamp (nullable = true)\n",
      " |-- tpep_dropoff_datetime: timestamp (nullable = true)\n",
      " |-- passenger_count: integer (nullable = true)\n",
      " |-- trip_distance: double (nullable = true)\n",
      " |-- RatecodeID: integer (nullable = true)\n",
      " |-- store_and_fwd_flag: string (nullable = true)\n",
      " |-- PULocationID: integer (nullable = true)\n",
      " |-- DOLocationID: integer (nullable = true)\n",
      " |-- payment_type: integer (nullable = true)\n",
      " |-- fare_amount: double (nullable = true)\n",
      " |-- extra: double (nullable = true)\n",
      " |-- mta_tax: double (nullable = true)\n",
      " |-- tip_amount: double (nullable = true)\n",
      " |-- tolls_amount: double (nullable = true)\n",
      " |-- improvement_surcharge: double (nullable = true)\n",
      " |-- total_amount: double (nullable = true)\n",
      " |-- congestion_surcharge: double (nullable = true)\n",
      "\n"
     ]
    }
   ],
   "source": [
    "df_yellow.printSchema()"
   ]
  },
  {
   "cell_type": "code",
   "execution_count": 8,
   "id": "c11073c9-ef21-441d-afbf-538bf758c989",
   "metadata": {},
   "outputs": [
    {
     "data": {
      "text/plain": [
       "['VendorID',\n",
       " 'tpep_pickup_datetime',\n",
       " 'tpep_dropoff_datetime',\n",
       " 'passenger_count',\n",
       " 'trip_distance',\n",
       " 'RatecodeID',\n",
       " 'store_and_fwd_flag',\n",
       " 'PULocationID',\n",
       " 'DOLocationID',\n",
       " 'payment_type',\n",
       " 'fare_amount',\n",
       " 'extra',\n",
       " 'mta_tax',\n",
       " 'tip_amount',\n",
       " 'tolls_amount',\n",
       " 'improvement_surcharge',\n",
       " 'total_amount',\n",
       " 'congestion_surcharge']"
      ]
     },
     "execution_count": 8,
     "metadata": {},
     "output_type": "execute_result"
    }
   ],
   "source": [
    "df_yellow.columns"
   ]
  },
  {
   "cell_type": "code",
   "execution_count": 9,
   "id": "741dd582-3581-4fcd-a778-515355b8b5a2",
   "metadata": {},
   "outputs": [
    {
     "data": {
      "text/plain": [
       "{'DOLocationID',\n",
       " 'PULocationID',\n",
       " 'RatecodeID',\n",
       " 'VendorID',\n",
       " 'congestion_surcharge',\n",
       " 'extra',\n",
       " 'fare_amount',\n",
       " 'improvement_surcharge',\n",
       " 'mta_tax',\n",
       " 'passenger_count',\n",
       " 'payment_type',\n",
       " 'store_and_fwd_flag',\n",
       " 'tip_amount',\n",
       " 'tolls_amount',\n",
       " 'total_amount',\n",
       " 'trip_distance'}"
      ]
     },
     "execution_count": 9,
     "metadata": {},
     "output_type": "execute_result"
    }
   ],
   "source": [
    "set(df_green.columns) & set(df_yellow.columns)"
   ]
  },
  {
   "cell_type": "code",
   "execution_count": 10,
   "id": "e8418bd2-5f23-4ea0-8bbd-a87cb8cf138b",
   "metadata": {},
   "outputs": [],
   "source": [
    "df_green = df_green \\\n",
    "    .withColumnRenamed('tpep_pickup_datetime', 'pickup_datetime') \\\n",
    "    .withColumnRenamed('tpep_dropoff_datetime', 'dropoff_datetime')"
   ]
  },
  {
   "cell_type": "code",
   "execution_count": 11,
   "id": "7180cec8-13b5-4e2e-828c-2b5a3d132309",
   "metadata": {},
   "outputs": [],
   "source": [
    "df_yellow = df_yellow \\\n",
    "    .withColumnRenamed('lpep_pickup_datetime', 'pickup_datetime') \\\n",
    "    .withColumnRenamed('lpep_dropoff_datetime', 'dropoff_datetime')"
   ]
  },
  {
   "cell_type": "code",
   "execution_count": 12,
   "id": "a0c5a0e5-899c-447f-8662-f46b892a7abd",
   "metadata": {},
   "outputs": [],
   "source": [
    "common_columns = []\n",
    "\n",
    "yellow_columns = set(df_yellow.columns)\n",
    "for col in df_green.columns:\n",
    "        if col in yellow_columns:\n",
    "            common_columns.append(col)"
   ]
  },
  {
   "cell_type": "code",
   "execution_count": 13,
   "id": "abffff14-249b-4445-a6ec-f1e7d634fd76",
   "metadata": {},
   "outputs": [
    {
     "data": {
      "text/plain": [
       "['VendorID',\n",
       " 'store_and_fwd_flag',\n",
       " 'RatecodeID',\n",
       " 'PULocationID',\n",
       " 'DOLocationID',\n",
       " 'passenger_count',\n",
       " 'trip_distance',\n",
       " 'fare_amount',\n",
       " 'extra',\n",
       " 'mta_tax',\n",
       " 'tip_amount',\n",
       " 'tolls_amount',\n",
       " 'improvement_surcharge',\n",
       " 'total_amount',\n",
       " 'payment_type',\n",
       " 'congestion_surcharge']"
      ]
     },
     "execution_count": 13,
     "metadata": {},
     "output_type": "execute_result"
    }
   ],
   "source": [
    "common_columns"
   ]
  },
  {
   "cell_type": "code",
   "execution_count": 14,
   "id": "49249725-5cf8-44bc-be37-fb9e08c6931a",
   "metadata": {},
   "outputs": [],
   "source": [
    "df_green_filter = df_green \\\n",
    "    .select(common_columns) \\\n",
    "    .withColumn('service_type', F.lit('green'))"
   ]
  },
  {
   "cell_type": "code",
   "execution_count": 26,
   "id": "5bd9df7b-c1ee-4e5d-a8c1-70b9eaa7f490",
   "metadata": {},
   "outputs": [],
   "source": [
    "df_yellow_filter = df_yellow \\\n",
    "    .select(common_columns) \\\n",
    "    .withColumn('service_type', F.lit('yellow'))"
   ]
  },
  {
   "cell_type": "code",
   "execution_count": 27,
   "id": "4bc8b967-9428-4202-8726-299cd3abc9b3",
   "metadata": {},
   "outputs": [],
   "source": [
    "df_trips_data = df_green_filter.unionAll(df_yellow_filter)"
   ]
  },
  {
   "cell_type": "code",
   "execution_count": 28,
   "id": "a83a9996-6d3f-422e-ad58-bc058c0818a1",
   "metadata": {},
   "outputs": [
    {
     "name": "stderr",
     "output_type": "stream",
     "text": [
      "[Stage 8:================================================>        (17 + 3) / 20]\r"
     ]
    },
    {
     "name": "stdout",
     "output_type": "stream",
     "text": [
      "+------------+--------+\n",
      "|service_type|   count|\n",
      "+------------+--------+\n",
      "|       green| 2304517|\n",
      "|      yellow|39649199|\n",
      "+------------+--------+\n",
      "\n"
     ]
    },
    {
     "name": "stderr",
     "output_type": "stream",
     "text": [
      "                                                                                \r"
     ]
    }
   ],
   "source": [
    "df_trips_data.groupBy('service_type').count().show()"
   ]
  },
  {
   "cell_type": "code",
   "execution_count": 29,
   "id": "740bdd9c-bc8f-4b70-b6b5-e6993400476e",
   "metadata": {},
   "outputs": [],
   "source": [
    "df_trips_data.registerTempTable('trips_data')"
   ]
  },
  {
   "cell_type": "code",
   "execution_count": 19,
   "id": "09cc5e93-0c19-4592-8f6f-816091357b5e",
   "metadata": {},
   "outputs": [
    {
     "data": {
      "text/plain": [
       "'3.5.5'"
      ]
     },
     "execution_count": 19,
     "metadata": {},
     "output_type": "execute_result"
    }
   ],
   "source": [
    "spark.version"
   ]
  },
  {
   "cell_type": "code",
   "execution_count": 31,
   "id": "76fe504f-071b-4a99-b51e-68ea60b3927d",
   "metadata": {},
   "outputs": [],
   "source": [
    "df_result = spark.sql(\"\"\"\n",
    "    SELECT \n",
    "        -- Revenue grouping \n",
    "        PULocationID AS revenue_zone,\n",
    "        date_trunc(\"month\", \"pickup_datetime\") AS revenue_month, \n",
    "        service_type, \n",
    "    \n",
    "        -- Revenue calculation \n",
    "        SUM(fare_amount) AS revenue_monthly_fare,\n",
    "        SUM(extra) AS revenue_monthly_extra,\n",
    "        SUM(mta_tax) AS revenue_monthly_mta_tax,\n",
    "        SUM(tip_amount) AS revenue_monthly_tip_amount,\n",
    "        SUM(tolls_amount) AS revenue_monthly_tolls_amount,\n",
    "        SUM(improvement_surcharge) AS revenue_monthly_improvement_surcharge,\n",
    "        SUM(total_amount) AS revenue_monthly_total_amount,\n",
    "    \n",
    "        -- Additional calculations\n",
    "        AVG(passenger_count) AS avg_monthly_passenger_count,\n",
    "        AVG(trip_distance) AS avg_monthly_trip_distance\n",
    "    \n",
    "    FROM \n",
    "        trips_data\n",
    "    GROUP BY \n",
    "        1, 2, 3\n",
    "    \"\"\")"
   ]
  },
  {
   "cell_type": "code",
   "execution_count": 33,
   "id": "e7b7445c-5e86-4f02-b723-bb89c9191a1a",
   "metadata": {
    "scrolled": true
   },
   "outputs": [
    {
     "name": "stderr",
     "output_type": "stream",
     "text": [
      "[Stage 14:===============================================>        (17 + 3) / 20]\r"
     ]
    },
    {
     "name": "stdout",
     "output_type": "stream",
     "text": [
      "+------------+-------------+------------+--------------------+---------------------+-----------------------+--------------------------+----------------------------+-------------------------------------+----------------------------+---------------------------+-------------------------+\n",
      "|revenue_zone|revenue_month|service_type|revenue_monthly_fare|revenue_monthly_extra|revenue_monthly_mta_tax|revenue_monthly_tip_amount|revenue_monthly_tolls_amount|revenue_monthly_improvement_surcharge|revenue_monthly_total_amount|avg_monthly_passenger_count|avg_monthly_trip_distance|\n",
      "+------------+-------------+------------+--------------------+---------------------+-----------------------+--------------------------+----------------------------+-------------------------------------+----------------------------+---------------------------+-------------------------+\n",
      "|         254|         NULL|       green|   278150.7100000003|   11320.519999999999|                  854.5|                    9569.9|          13415.779999999926|                    2786.100000000053|           316342.1099999996|          1.138095238095238|         249.571459624068|\n",
      "|          38|         NULL|       green|   82767.61000000003|               2537.6|                  237.5|        2433.5299999999997|          3530.9100000000017|                    664.1999999999985|           92221.79999999999|         1.1342925659472423|       151.58323426573418|\n",
      "|         229|         NULL|       green|  13658.470000000001|                689.3|                   23.0|                    388.43|           789.1000000000003|                   132.00000000000014|          15699.050000000001|         1.2222222222222223|         8.25965986394558|\n",
      "|         188|         NULL|       green|   430873.5499999996|             21162.42|                 1931.0|        19095.489999999998|           6813.589999999999|                    5714.399999999857|          486763.99999999744|         1.1596080910240203|         82.2765444945663|\n",
      "|         232|         NULL|       green|  40609.979999999996|   1913.9500000000003|                  64.55|        1314.6000000000001|                     1395.41|                    403.4999999999988|          45729.539999999986|          1.069767441860465|        261.1684855233853|\n",
      "|          91|         NULL|       green|  250313.21999999977|   12562.129999999997|                  787.0|                   8716.69|           6357.609999999993|                    2745.300000000032|          281822.25000000064|         1.1644120707596255|       150.86490212498686|\n",
      "|         134|         NULL|       green|  237161.70999999985|              10112.5|                 5852.0|        17749.849999999984|           4267.539999999999|                    4513.199999999795|            280469.150000006|         1.3807110815750125|       14.592568801313647|\n",
      "|         241|         NULL|       green|  146435.97000000012|    4976.450000000002|                  874.5|                   5909.28|          5791.5999999999985|                   1537.2000000000153|           165902.9499999994|         1.1257344300822563|        142.7736909709105|\n",
      "|         101|         NULL|       green|  39496.089999999975|   1367.1999999999998|                  112.0|        1092.3700000000001|           952.1200000000001|                    323.9999999999992|           43368.63000000003|                        1.2|       195.69598389982121|\n",
      "|          93|         NULL|       green|  30308.010000000002|    655.6500000000001|                  297.5|                   2848.06|          1195.7500000000005|                   314.09999999999917|           35931.47000000003|         1.3621399176954732|        7.395726179463459|\n",
      "|         118|         NULL|       green|   4471.259999999999|                41.25|                   25.5|                     90.87|           650.9100000000001|                   23.699999999999996|                     5303.49|          1.169811320754717|       18.348101265822784|\n",
      "|         189|         NULL|       green|   94516.57999999994|              4349.99|                 1131.0|         7784.499999999996|           769.1300000000001|                   1469.4000000000149|          111309.84999999971|         1.2221715328467153|       100.36491477842385|\n",
      "|         153|         NULL|       green|   44446.14000000001|               1739.6|                  314.0|                   1898.36|           836.8100000000003|                    538.4999999999975|           49846.36000000002|         1.1730769230769231|        85.14134782608694|\n",
      "|         221|         NULL|       green|             4423.11|                 43.0|                   25.5|         97.50999999999999|                      650.65|                   25.199999999999996|                     5278.72|         1.5272727272727273|       15.346785714285716|\n",
      "|          76|         NULL|       green|   519384.7099999934|   22772.819999999992|                 1959.0|        17321.469999999998|          16248.769999999871|                    5437.199999999845|           583539.5200000022|         1.2111475409836066|           79.12579277698|\n",
      "|         225|         NULL|       green|   327440.7999999993|   15683.279999999995|                 1740.5|                  14035.02|           6848.679999999995|                    4104.899999999983|          370806.52999999915|          1.153555479216764|         26.1923850756776|\n",
      "|         227|         NULL|       green|  145901.41000000024|              4067.25|                  700.5|                   5313.89|          1879.9700000000005|                    1220.700000000004|           159232.0199999995|          1.043778801843318|       30.871060496505237|\n",
      "|          94|         NULL|       green|   82998.72000000006|   3515.7000000000003|                  562.0|                   3282.34|          2794.8600000000015|                   1018.7999999999985|            94344.3199999999|         1.1953612845673507|        75.99355281992555|\n",
      "|          52|         NULL|       green|  204883.62999999995|               6166.2|                 7813.5|         30908.16999999994|          1451.2800000000004|                    4981.799999999765|          262175.63000000594|         1.2154023577652486|        5.637083707293722|\n",
      "|         160|         NULL|       green|   46051.62000000001|   1986.9499999999998|                  224.0|                   2058.21|          1289.8200000000004|                    539.0999999999981|          52245.799999999996|         1.2039473684210527|         9.66249048395868|\n",
      "+------------+-------------+------------+--------------------+---------------------+-----------------------+--------------------------+----------------------------+-------------------------------------+----------------------------+---------------------------+-------------------------+\n",
      "only showing top 20 rows\n",
      "\n"
     ]
    },
    {
     "name": "stderr",
     "output_type": "stream",
     "text": [
      "                                                                                \r"
     ]
    }
   ],
   "source": [
    "df_result.show()"
   ]
  },
  {
   "cell_type": "code",
   "execution_count": 34,
   "id": "7c067053-dbcf-4b7f-8b49-25814489dc86",
   "metadata": {},
   "outputs": [
    {
     "name": "stderr",
     "output_type": "stream",
     "text": [
      "                                                                                \r"
     ]
    }
   ],
   "source": [
    "df_result.coalesce(1).write.parquet('data/report/revenue/')"
   ]
  },
  {
   "cell_type": "code",
   "execution_count": null,
   "id": "f12afa5b-e178-4b53-89d1-ae089d0a9574",
   "metadata": {},
   "outputs": [],
   "source": []
  },
  {
   "cell_type": "code",
   "execution_count": null,
   "id": "b2387c37-3a72-4e86-b1e0-1097961f8cf1",
   "metadata": {},
   "outputs": [],
   "source": []
  },
  {
   "cell_type": "code",
   "execution_count": null,
   "id": "80785de6-2c9b-4b43-9fe6-361122823e8e",
   "metadata": {},
   "outputs": [],
   "source": []
  },
  {
   "cell_type": "code",
   "execution_count": null,
   "id": "137c78e7-52e0-40d3-bd3b-f0f95921217d",
   "metadata": {},
   "outputs": [],
   "source": []
  },
  {
   "cell_type": "code",
   "execution_count": null,
   "id": "0d1c5b6d-428e-461a-9cf7-c8b7dba286a0",
   "metadata": {},
   "outputs": [],
   "source": [
    "spark.stop()"
   ]
  }
 ],
 "metadata": {
  "kernelspec": {
   "display_name": "Python 3 (ipykernel)",
   "language": "python",
   "name": "python3"
  },
  "language_info": {
   "codemirror_mode": {
    "name": "ipython",
    "version": 3
   },
   "file_extension": ".py",
   "mimetype": "text/x-python",
   "name": "python",
   "nbconvert_exporter": "python",
   "pygments_lexer": "ipython3",
   "version": "3.12.7"
  }
 },
 "nbformat": 4,
 "nbformat_minor": 5
}
