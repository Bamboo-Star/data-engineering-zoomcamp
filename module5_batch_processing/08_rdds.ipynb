{
 "cells": [
  {
   "cell_type": "code",
   "execution_count": 1,
   "id": "d66f42fd",
   "metadata": {},
   "outputs": [
    {
     "name": "stderr",
     "output_type": "stream",
     "text": [
      "25/04/27 22:09:45 WARN Utils: Your hostname, MacBook-Air-2.local resolves to a loopback address: 127.0.0.1; using 192.168.206.17 instead (on interface en0)\n",
      "25/04/27 22:09:45 WARN Utils: Set SPARK_LOCAL_IP if you need to bind to another address\n",
      "Setting default log level to \"WARN\".\n",
      "To adjust logging level use sc.setLogLevel(newLevel). For SparkR, use setLogLevel(newLevel).\n",
      "25/04/27 22:09:46 WARN NativeCodeLoader: Unable to load native-hadoop library for your platform... using builtin-java classes where applicable\n"
     ]
    }
   ],
   "source": [
    "import pyspark\n",
    "from pyspark.sql import SparkSession\n",
    "\n",
    "spark = SparkSession.builder \\\n",
    "    .master(\"local[*]\") \\\n",
    "    .appName('test') \\\n",
    "    .getOrCreate()"
   ]
  },
  {
   "cell_type": "code",
   "execution_count": 2,
   "id": "646fc343",
   "metadata": {},
   "outputs": [
    {
     "name": "stderr",
     "output_type": "stream",
     "text": [
      "                                                                                \r"
     ]
    }
   ],
   "source": [
    "df_green = spark.read.parquet('data/pq/green/*/*')"
   ]
  },
  {
   "cell_type": "code",
   "execution_count": 3,
   "id": "33e73254-cad9-4f86-bc45-1a1c0fb006c2",
   "metadata": {},
   "outputs": [
    {
     "name": "stderr",
     "output_type": "stream",
     "text": [
      "                                                                                \r"
     ]
    },
    {
     "name": "stdout",
     "output_type": "stream",
     "text": [
      "+--------+--------------------+---------------------+------------------+----------+------------+------------+---------------+-------------+-----------+-----+-------+----------+------------+---------+---------------------+------------+------------+---------+--------------------+\n",
      "|VendorID|lpep_pickup_datetime|lpep_dropoff_datetime|store_and_fwd_flag|RatecodeID|PULocationID|DOLocationID|passenger_count|trip_distance|fare_amount|extra|mta_tax|tip_amount|tolls_amount|ehail_fee|improvement_surcharge|total_amount|payment_type|trip_type|congestion_surcharge|\n",
      "+--------+--------------------+---------------------+------------------+----------+------------+------------+---------------+-------------+-----------+-----+-------+----------+------------+---------+---------------------+------------+------------+---------+--------------------+\n",
      "|       2| 2020-01-22 13:18:32|  2020-01-22 13:45:58|                 N|         1|         244|          41|              1|         5.22|       22.0|  0.0|    0.5|       0.0|         0.0|     NULL|                  0.3|        22.8|           1|        1|                 0.0|\n",
      "|       2| 2020-01-23 17:54:10|  2020-01-23 18:01:02|                 N|         1|         236|         263|              1|         0.87|        6.5|  1.0|    0.5|       1.2|         0.0|     NULL|                  0.3|       12.25|           1|        1|                2.75|\n",
      "|       2| 2020-01-19 10:23:37|  2020-01-19 10:26:29|                 N|         1|         166|         166|              4|         0.63|        4.5|  0.0|    0.5|       0.0|         0.0|     NULL|                  0.3|         5.3|           2|        1|                 0.0|\n",
      "|       2| 2020-01-21 14:25:16|  2020-01-21 14:35:51|                 N|         1|         152|         238|              1|         2.71|       11.0|  0.0|    0.5|      2.91|         0.0|     NULL|                  0.3|       17.46|           1|        1|                2.75|\n",
      "|    NULL| 2020-01-07 09:46:00|  2020-01-07 09:59:00|              NULL|      NULL|          51|           3|           NULL|         2.13|      18.96| 2.75|    0.0|       0.0|         0.0|     NULL|                  0.3|       22.01|        NULL|     NULL|                NULL|\n",
      "|    NULL| 2020-01-10 08:19:00|  2020-01-10 09:15:00|              NULL|      NULL|          32|         186|           NULL|        17.93|      49.58|  0.0|    0.0|       0.0|         2.8|     NULL|                  0.3|       52.68|        NULL|     NULL|                NULL|\n",
      "|       2| 2020-01-15 10:57:40|  2020-01-15 11:33:06|                 N|         1|         130|         228|              3|        24.04|       64.5|  0.0|    0.5|     13.06|         0.0|     NULL|                  0.3|       78.36|           1|        1|                 0.0|\n",
      "|       2| 2020-01-26 16:52:02|  2020-01-26 17:03:01|                 N|         1|           7|         223|              1|         1.45|        8.5|  0.0|    0.5|      2.79|         0.0|     NULL|                  0.3|       12.09|           1|        1|                 0.0|\n",
      "|       2| 2020-01-24 21:57:19|  2020-01-24 22:27:38|                 N|         1|         244|          87|              1|        10.94|       34.0|  0.5|    0.5|      3.95|         0.0|     NULL|                  0.3|        42.0|           1|        1|                2.75|\n",
      "|       2| 2020-01-27 23:45:54|  2020-01-27 23:58:33|                 N|         1|          65|          62|              5|         3.18|       12.0|  0.5|    0.5|       2.0|         0.0|     NULL|                  0.3|        15.3|           1|        1|                 0.0|\n",
      "|       2| 2020-01-26 17:21:19|  2020-01-26 17:31:43|                 N|         1|          95|          95|              1|         1.86|        8.5|  0.0|    0.5|       0.0|         0.0|     NULL|                  0.3|         9.3|           2|        1|                 0.0|\n",
      "|       2| 2020-01-07 11:54:37|  2020-01-07 12:04:23|                 N|         1|         181|         195|              1|         1.75|        8.5|  0.0|    0.5|       0.0|         0.0|     NULL|                  0.3|         9.3|           2|        1|                 0.0|\n",
      "|    NULL| 2020-01-12 07:21:00|  2020-01-12 07:58:00|              NULL|      NULL|         240|          37|           NULL|        18.95|      40.47|  0.0|    0.5|       0.0|         0.0|     NULL|                  0.0|       40.97|        NULL|     NULL|                NULL|\n",
      "|    NULL| 2020-01-13 11:56:00|  2020-01-13 12:23:00|              NULL|      NULL|          75|         220|           NULL|         9.24|      34.86| 2.75|    0.0|       0.0|         2.8|     NULL|                  0.3|       40.71|        NULL|     NULL|                NULL|\n",
      "|       2| 2020-01-11 05:41:57|  2020-01-11 05:51:49|                 N|         5|         127|          69|              1|         3.37|        7.0|  0.0|    0.0|       0.0|         0.0|     NULL|                  0.3|         7.3|           2|        2|                 0.0|\n",
      "|    NULL| 2020-01-28 13:40:00|  2020-01-28 13:59:00|              NULL|      NULL|          25|          61|           NULL|         2.92|      20.73| 2.75|    0.5|       0.0|         0.0|     NULL|                  0.0|       23.98|        NULL|     NULL|                NULL|\n",
      "|    NULL| 2020-01-28 11:19:00|  2020-01-28 11:33:00|              NULL|      NULL|         212|          81|           NULL|         5.13|      22.59| 2.75|    0.5|       0.0|         0.0|     NULL|                  0.0|       25.84|        NULL|     NULL|                NULL|\n",
      "|       1| 2020-01-23 07:57:08|  2020-01-23 08:01:28|                 N|         1|         166|          24|              1|          1.0|        5.5|  0.0|    0.5|      1.26|         0.0|     NULL|                  0.3|        7.56|           1|        1|                 0.0|\n",
      "|       2| 2020-01-20 10:04:55|  2020-01-20 10:06:34|                 N|         1|          75|          75|              1|         0.59|        3.5|  0.0|    0.5|       0.0|         0.0|     NULL|                  0.3|         4.3|           2|        1|                 0.0|\n",
      "|    NULL| 2020-01-03 18:37:00|  2020-01-03 18:37:00|              NULL|      NULL|          81|          81|           NULL|          0.0|      22.26|  0.0|    0.5|       0.0|         0.0|     NULL|                  0.3|       23.06|        NULL|     NULL|                NULL|\n",
      "+--------+--------------------+---------------------+------------------+----------+------------+------------+---------------+-------------+-----------+-----+-------+----------+------------+---------+---------------------+------------+------------+---------+--------------------+\n",
      "only showing top 20 rows\n",
      "\n"
     ]
    }
   ],
   "source": [
    "df_green.show()"
   ]
  },
  {
   "cell_type": "markdown",
   "id": "9f6a9eb6-32a7-4d52-8996-cc8fe179f580",
   "metadata": {},
   "source": [
    "# Task1: use RDD to replicate the below group by SQL task"
   ]
  },
  {
   "cell_type": "markdown",
   "id": "196cccd5",
   "metadata": {},
   "source": [
    "```\n",
    "SELECT \n",
    "    date_trunc('hour', lpep_pickup_datetime) AS hour, \n",
    "    PULocationID AS zone,\n",
    "\n",
    "    SUM(total_amount) AS amount,\n",
    "    COUNT(1) AS number_records\n",
    "FROM\n",
    "    green\n",
    "WHERE\n",
    "    lpep_pickup_datetime >= '2020-01-01 00:00:00'\n",
    "GROUP BY\n",
    "    1, 2\n",
    "```"
   ]
  },
  {
   "cell_type": "code",
   "execution_count": 5,
   "id": "3c1ba887-4b9d-4bfa-b27f-4c6417ab2922",
   "metadata": {},
   "outputs": [
    {
     "name": "stderr",
     "output_type": "stream",
     "text": [
      "/usr/local/Cellar/apache-spark/3.5.5/libexec/python/lib/pyspark.zip/pyspark/daemon.py:154: DeprecationWarning: This process (pid=66608) is multi-threaded, use of fork() may lead to deadlocks in the child.\n",
      "                                                                                \r"
     ]
    },
    {
     "data": {
      "text/plain": [
       "[Row(VendorID=2, lpep_pickup_datetime=datetime.datetime(2020, 1, 22, 13, 18, 32), lpep_dropoff_datetime=datetime.datetime(2020, 1, 22, 13, 45, 58), store_and_fwd_flag='N', RatecodeID=1, PULocationID=244, DOLocationID=41, passenger_count=1, trip_distance=5.22, fare_amount=22.0, extra=0.0, mta_tax=0.5, tip_amount=0.0, tolls_amount=0.0, ehail_fee=None, improvement_surcharge=0.3, total_amount=22.8, payment_type=1, trip_type=1, congestion_surcharge=0.0),\n",
       " Row(VendorID=2, lpep_pickup_datetime=datetime.datetime(2020, 1, 23, 17, 54, 10), lpep_dropoff_datetime=datetime.datetime(2020, 1, 23, 18, 1, 2), store_and_fwd_flag='N', RatecodeID=1, PULocationID=236, DOLocationID=263, passenger_count=1, trip_distance=0.87, fare_amount=6.5, extra=1.0, mta_tax=0.5, tip_amount=1.2, tolls_amount=0.0, ehail_fee=None, improvement_surcharge=0.3, total_amount=12.25, payment_type=1, trip_type=1, congestion_surcharge=2.75),\n",
       " Row(VendorID=2, lpep_pickup_datetime=datetime.datetime(2020, 1, 19, 10, 23, 37), lpep_dropoff_datetime=datetime.datetime(2020, 1, 19, 10, 26, 29), store_and_fwd_flag='N', RatecodeID=1, PULocationID=166, DOLocationID=166, passenger_count=4, trip_distance=0.63, fare_amount=4.5, extra=0.0, mta_tax=0.5, tip_amount=0.0, tolls_amount=0.0, ehail_fee=None, improvement_surcharge=0.3, total_amount=5.3, payment_type=2, trip_type=1, congestion_surcharge=0.0),\n",
       " Row(VendorID=2, lpep_pickup_datetime=datetime.datetime(2020, 1, 21, 14, 25, 16), lpep_dropoff_datetime=datetime.datetime(2020, 1, 21, 14, 35, 51), store_and_fwd_flag='N', RatecodeID=1, PULocationID=152, DOLocationID=238, passenger_count=1, trip_distance=2.71, fare_amount=11.0, extra=0.0, mta_tax=0.5, tip_amount=2.91, tolls_amount=0.0, ehail_fee=None, improvement_surcharge=0.3, total_amount=17.46, payment_type=1, trip_type=1, congestion_surcharge=2.75),\n",
       " Row(VendorID=None, lpep_pickup_datetime=datetime.datetime(2020, 1, 7, 9, 46), lpep_dropoff_datetime=datetime.datetime(2020, 1, 7, 9, 59), store_and_fwd_flag=None, RatecodeID=None, PULocationID=51, DOLocationID=3, passenger_count=None, trip_distance=2.13, fare_amount=18.96, extra=2.75, mta_tax=0.0, tip_amount=0.0, tolls_amount=0.0, ehail_fee=None, improvement_surcharge=0.3, total_amount=22.01, payment_type=None, trip_type=None, congestion_surcharge=None),\n",
       " Row(VendorID=None, lpep_pickup_datetime=datetime.datetime(2020, 1, 10, 8, 19), lpep_dropoff_datetime=datetime.datetime(2020, 1, 10, 9, 15), store_and_fwd_flag=None, RatecodeID=None, PULocationID=32, DOLocationID=186, passenger_count=None, trip_distance=17.93, fare_amount=49.58, extra=0.0, mta_tax=0.0, tip_amount=0.0, tolls_amount=2.8, ehail_fee=None, improvement_surcharge=0.3, total_amount=52.68, payment_type=None, trip_type=None, congestion_surcharge=None),\n",
       " Row(VendorID=2, lpep_pickup_datetime=datetime.datetime(2020, 1, 15, 10, 57, 40), lpep_dropoff_datetime=datetime.datetime(2020, 1, 15, 11, 33, 6), store_and_fwd_flag='N', RatecodeID=1, PULocationID=130, DOLocationID=228, passenger_count=3, trip_distance=24.04, fare_amount=64.5, extra=0.0, mta_tax=0.5, tip_amount=13.06, tolls_amount=0.0, ehail_fee=None, improvement_surcharge=0.3, total_amount=78.36, payment_type=1, trip_type=1, congestion_surcharge=0.0),\n",
       " Row(VendorID=2, lpep_pickup_datetime=datetime.datetime(2020, 1, 26, 16, 52, 2), lpep_dropoff_datetime=datetime.datetime(2020, 1, 26, 17, 3, 1), store_and_fwd_flag='N', RatecodeID=1, PULocationID=7, DOLocationID=223, passenger_count=1, trip_distance=1.45, fare_amount=8.5, extra=0.0, mta_tax=0.5, tip_amount=2.79, tolls_amount=0.0, ehail_fee=None, improvement_surcharge=0.3, total_amount=12.09, payment_type=1, trip_type=1, congestion_surcharge=0.0),\n",
       " Row(VendorID=2, lpep_pickup_datetime=datetime.datetime(2020, 1, 24, 21, 57, 19), lpep_dropoff_datetime=datetime.datetime(2020, 1, 24, 22, 27, 38), store_and_fwd_flag='N', RatecodeID=1, PULocationID=244, DOLocationID=87, passenger_count=1, trip_distance=10.94, fare_amount=34.0, extra=0.5, mta_tax=0.5, tip_amount=3.95, tolls_amount=0.0, ehail_fee=None, improvement_surcharge=0.3, total_amount=42.0, payment_type=1, trip_type=1, congestion_surcharge=2.75),\n",
       " Row(VendorID=2, lpep_pickup_datetime=datetime.datetime(2020, 1, 27, 23, 45, 54), lpep_dropoff_datetime=datetime.datetime(2020, 1, 27, 23, 58, 33), store_and_fwd_flag='N', RatecodeID=1, PULocationID=65, DOLocationID=62, passenger_count=5, trip_distance=3.18, fare_amount=12.0, extra=0.5, mta_tax=0.5, tip_amount=2.0, tolls_amount=0.0, ehail_fee=None, improvement_surcharge=0.3, total_amount=15.3, payment_type=1, trip_type=1, congestion_surcharge=0.0)]"
      ]
     },
     "execution_count": 5,
     "metadata": {},
     "output_type": "execute_result"
    }
   ],
   "source": [
    "df_green.rdd.take(10)"
   ]
  },
  {
   "cell_type": "code",
   "execution_count": 6,
   "id": "74fe52cb",
   "metadata": {
    "scrolled": true
   },
   "outputs": [],
   "source": [
    "rdd = df_green \\\n",
    "    .select('lpep_pickup_datetime', 'PULocationID', 'total_amount') \\\n",
    "    .rdd"
   ]
  },
  {
   "cell_type": "code",
   "execution_count": 7,
   "id": "31cc0011-e8e8-42e2-b2a5-cfc0494cc5fb",
   "metadata": {},
   "outputs": [
    {
     "data": {
      "text/plain": [
       "[Row(lpep_pickup_datetime=datetime.datetime(2020, 1, 22, 13, 18, 32), PULocationID=244, total_amount=22.8),\n",
       " Row(lpep_pickup_datetime=datetime.datetime(2020, 1, 23, 17, 54, 10), PULocationID=236, total_amount=12.25),\n",
       " Row(lpep_pickup_datetime=datetime.datetime(2020, 1, 19, 10, 23, 37), PULocationID=166, total_amount=5.3),\n",
       " Row(lpep_pickup_datetime=datetime.datetime(2020, 1, 21, 14, 25, 16), PULocationID=152, total_amount=17.46),\n",
       " Row(lpep_pickup_datetime=datetime.datetime(2020, 1, 7, 9, 46), PULocationID=51, total_amount=22.01)]"
      ]
     },
     "execution_count": 7,
     "metadata": {},
     "output_type": "execute_result"
    }
   ],
   "source": [
    "rdd.take(5)"
   ]
  },
  {
   "cell_type": "code",
   "execution_count": 9,
   "id": "fa2b00f1",
   "metadata": {},
   "outputs": [],
   "source": [
    "start = datetime(year=2020, month=1, day=1)\n",
    "\n",
    "def filter_outliers(row):\n",
    "    return row.lpep_pickup_datetime >= start"
   ]
  },
  {
   "cell_type": "code",
   "execution_count": 11,
   "id": "69dd326d",
   "metadata": {},
   "outputs": [],
   "source": [
    "rows = rdd.take(10)\n",
    "row = rows[0]"
   ]
  },
  {
   "cell_type": "code",
   "execution_count": 12,
   "id": "cd4b7006",
   "metadata": {},
   "outputs": [
    {
     "data": {
      "text/plain": [
       "Row(lpep_pickup_datetime=datetime.datetime(2020, 1, 22, 13, 18, 32), PULocationID=244, total_amount=22.8)"
      ]
     },
     "execution_count": 12,
     "metadata": {},
     "output_type": "execute_result"
    }
   ],
   "source": [
    "row"
   ]
  },
  {
   "cell_type": "code",
   "execution_count": 16,
   "id": "56792897-9f53-4279-b603-833458d547b3",
   "metadata": {},
   "outputs": [],
   "source": [
    "from datetime import datetime"
   ]
  },
  {
   "cell_type": "code",
   "execution_count": 13,
   "id": "d99eb089",
   "metadata": {},
   "outputs": [],
   "source": [
    "def prepare_for_grouping(row): \n",
    "    hour = row.lpep_pickup_datetime.replace(minute=0, second=0, microsecond=0)\n",
    "    zone = row.PULocationID\n",
    "    key = (hour, zone)\n",
    "    \n",
    "    amount = row.total_amount\n",
    "    count = 1\n",
    "    value = (amount, count)\n",
    "\n",
    "    return (key, value)"
   ]
  },
  {
   "cell_type": "code",
   "execution_count": 14,
   "id": "cb328a44",
   "metadata": {},
   "outputs": [],
   "source": [
    "def calculate_revenue(left_value, right_value):\n",
    "    left_amount, left_count = left_value\n",
    "    right_amount, right_count = right_value\n",
    "    \n",
    "    output_amount = left_amount + right_amount\n",
    "    output_count = left_count + right_count\n",
    "    \n",
    "    return (output_amount, output_count)"
   ]
  },
  {
   "cell_type": "code",
   "execution_count": 17,
   "id": "42e74b90-86f6-4d0c-8ed1-de1212862d71",
   "metadata": {},
   "outputs": [],
   "source": [
    "from collections import namedtuple"
   ]
  },
  {
   "cell_type": "code",
   "execution_count": 18,
   "id": "7dae6064",
   "metadata": {},
   "outputs": [],
   "source": [
    "RevenueRow = namedtuple('RevenueRow', ['hour', 'zone', 'revenue', 'count'])"
   ]
  },
  {
   "cell_type": "code",
   "execution_count": 19,
   "id": "e0a98ee4",
   "metadata": {},
   "outputs": [],
   "source": [
    "def unwrap(row):\n",
    "    return RevenueRow(\n",
    "        hour=row[0][0], \n",
    "        zone=row[0][1],\n",
    "        revenue=row[1][0],\n",
    "        count=row[1][1]\n",
    "    )"
   ]
  },
  {
   "cell_type": "code",
   "execution_count": 20,
   "id": "d10cf609-3332-4a61-b695-18111cca898c",
   "metadata": {},
   "outputs": [],
   "source": [
    "from pyspark.sql import types"
   ]
  },
  {
   "cell_type": "code",
   "execution_count": 21,
   "id": "5c14d15e",
   "metadata": {},
   "outputs": [],
   "source": [
    "result_schema = types.StructType([\n",
    "    types.StructField('hour', types.TimestampType(), True),\n",
    "    types.StructField('zone', types.IntegerType(), True),\n",
    "    types.StructField('revenue', types.DoubleType(), True),\n",
    "    types.StructField('count', types.IntegerType(), True)\n",
    "])"
   ]
  },
  {
   "cell_type": "code",
   "execution_count": 22,
   "id": "56ea72ff",
   "metadata": {},
   "outputs": [],
   "source": [
    "df_result = rdd \\\n",
    "    .filter(filter_outliers) \\\n",
    "    .map(prepare_for_grouping) \\\n",
    "    .reduceByKey(calculate_revenue) \\\n",
    "    .map(unwrap) \\\n",
    "    .toDF(result_schema) "
   ]
  },
  {
   "cell_type": "code",
   "execution_count": 23,
   "id": "1279104c-68d3-4a0a-b1d4-133e916a0a06",
   "metadata": {},
   "outputs": [
    {
     "name": "stderr",
     "output_type": "stream",
     "text": [
      "[Stage 6:===================================================>       (7 + 1) / 8]\r"
     ]
    },
    {
     "name": "stdout",
     "output_type": "stream",
     "text": [
      "+-------------------+----+------------------+-----+\n",
      "|               hour|zone|           revenue|count|\n",
      "+-------------------+----+------------------+-----+\n",
      "|2020-01-22 13:00:00| 244| 589.1100000000001|   28|\n",
      "|2020-01-19 10:00:00| 166| 969.2699999999993|   55|\n",
      "|2020-01-26 16:00:00|   7| 682.1099999999998|   50|\n",
      "|2020-01-27 23:00:00|  65|119.80999999999997|   10|\n",
      "|2020-01-12 07:00:00| 240|             95.12|    2|\n",
      "|2020-01-15 09:00:00|  61|            322.29|   11|\n",
      "|2020-01-04 11:00:00|  39|             78.16|    4|\n",
      "|2020-01-15 21:00:00|  42| 336.1400000000001|   23|\n",
      "|2020-01-01 21:00:00|  75| 74.89999999999999|    8|\n",
      "|2020-01-15 11:00:00|  74| 848.3099999999995|   58|\n",
      "|2020-01-22 22:00:00|  82| 662.4299999999998|   44|\n",
      "|2020-01-05 14:00:00| 159|141.88000000000002|    5|\n",
      "|2020-01-06 08:00:00|  74|1453.3099999999984|  101|\n",
      "|2020-01-17 09:00:00| 145|175.60000000000002|   19|\n",
      "|2020-01-26 17:00:00| 130|157.76999999999998|   10|\n",
      "|2020-01-07 16:00:00|  25| 759.3399999999999|   29|\n",
      "|2020-01-04 07:00:00| 244|             95.94|    7|\n",
      "|2020-01-23 06:00:00|  42|122.58999999999999|    6|\n",
      "|2020-01-03 15:00:00| 260| 305.2900000000001|   18|\n",
      "|2020-01-13 11:00:00| 216|             61.84|    3|\n",
      "+-------------------+----+------------------+-----+\n",
      "only showing top 20 rows\n",
      "\n"
     ]
    },
    {
     "name": "stderr",
     "output_type": "stream",
     "text": [
      "                                                                                \r"
     ]
    }
   ],
   "source": [
    "df_result.show()"
   ]
  },
  {
   "cell_type": "code",
   "execution_count": 26,
   "id": "4675bd3f",
   "metadata": {},
   "outputs": [
    {
     "name": "stderr",
     "output_type": "stream",
     "text": [
      "25/04/27 22:49:09 WARN MemoryManager: Total allocation exceeds 95.00% (1,020,054,720 bytes) of heap memory\n",
      "Scaling row group sizes to 95.00% for 8 writers\n",
      "                                                                                \r"
     ]
    }
   ],
   "source": [
    "df_result.write.parquet('tmp/green-revenue')"
   ]
  },
  {
   "cell_type": "code",
   "execution_count": null,
   "id": "5f32ce40-47b3-4b5e-aeef-8105fa1c3414",
   "metadata": {},
   "outputs": [],
   "source": []
  },
  {
   "cell_type": "markdown",
   "id": "4f1103f1-2840-40da-b501-2cb668c6ba13",
   "metadata": {},
   "source": [
    "# Task2: RDD mapPartition"
   ]
  },
  {
   "cell_type": "code",
   "execution_count": 27,
   "id": "255b5503",
   "metadata": {},
   "outputs": [],
   "source": [
    "columns = ['VendorID', 'lpep_pickup_datetime', 'PULocationID', 'DOLocationID', 'trip_distance']\n",
    "\n",
    "duration_rdd = df_green \\\n",
    "    .select(columns) \\\n",
    "    .rdd"
   ]
  },
  {
   "cell_type": "code",
   "execution_count": 28,
   "id": "645c3190",
   "metadata": {},
   "outputs": [],
   "source": [
    "import pandas as pd"
   ]
  },
  {
   "cell_type": "code",
   "execution_count": 29,
   "id": "921e4ef9",
   "metadata": {},
   "outputs": [],
   "source": [
    "rows = duration_rdd.take(10)"
   ]
  },
  {
   "cell_type": "code",
   "execution_count": 30,
   "id": "f50db3eb",
   "metadata": {},
   "outputs": [],
   "source": [
    "df = pd.DataFrame(rows, columns=columns)"
   ]
  },
  {
   "cell_type": "code",
   "execution_count": 31,
   "id": "5b8ecc53",
   "metadata": {},
   "outputs": [
    {
     "data": {
      "text/plain": [
       "['VendorID',\n",
       " 'lpep_pickup_datetime',\n",
       " 'PULocationID',\n",
       " 'DOLocationID',\n",
       " 'trip_distance']"
      ]
     },
     "execution_count": 31,
     "metadata": {},
     "output_type": "execute_result"
    }
   ],
   "source": [
    "columns"
   ]
  },
  {
   "cell_type": "code",
   "execution_count": 32,
   "id": "6766c0f8",
   "metadata": {},
   "outputs": [],
   "source": [
    "#model = ...\n",
    "\n",
    "def model_predict(df):\n",
    "#     y_pred = model.predict(df)\n",
    "    y_pred = df.trip_distance * 5\n",
    "    return y_pred"
   ]
  },
  {
   "cell_type": "code",
   "execution_count": 33,
   "id": "7437b848",
   "metadata": {},
   "outputs": [],
   "source": [
    "def apply_model_in_batch(rows):\n",
    "    df = pd.DataFrame(rows, columns=columns)\n",
    "    predictions = model_predict(df)\n",
    "    df['predicted_duration'] = predictions\n",
    "\n",
    "    for row in df.itertuples():\n",
    "        yield row"
   ]
  },
  {
   "cell_type": "code",
   "execution_count": 34,
   "id": "580b5845",
   "metadata": {},
   "outputs": [
    {
     "name": "stderr",
     "output_type": "stream",
     "text": [
      "                                                                                \r"
     ]
    }
   ],
   "source": [
    "df_predicts = duration_rdd \\\n",
    "    .mapPartitions(apply_model_in_batch)\\\n",
    "    .toDF() \\\n",
    "    .drop('Index')"
   ]
  },
  {
   "cell_type": "code",
   "execution_count": 35,
   "id": "6055d543",
   "metadata": {},
   "outputs": [
    {
     "name": "stderr",
     "output_type": "stream",
     "text": [
      "[Stage 12:>                                                         (0 + 1) / 1]\r"
     ]
    },
    {
     "name": "stdout",
     "output_type": "stream",
     "text": [
      "+------------------+\n",
      "|predicted_duration|\n",
      "+------------------+\n",
      "|26.099999999999998|\n",
      "|              4.35|\n",
      "|              3.15|\n",
      "|             13.55|\n",
      "|10.649999999999999|\n",
      "|             89.65|\n",
      "|120.19999999999999|\n",
      "|              7.25|\n",
      "|54.699999999999996|\n",
      "|              15.9|\n",
      "|               9.3|\n",
      "|              8.75|\n",
      "|             94.75|\n",
      "|              46.2|\n",
      "|             16.85|\n",
      "|              14.6|\n",
      "|             25.65|\n",
      "|               5.0|\n",
      "|2.9499999999999997|\n",
      "|               0.0|\n",
      "+------------------+\n",
      "only showing top 20 rows\n",
      "\n"
     ]
    },
    {
     "name": "stderr",
     "output_type": "stream",
     "text": [
      "                                                                                \r"
     ]
    }
   ],
   "source": [
    "df_predicts.select('predicted_duration').show()"
   ]
  },
  {
   "cell_type": "code",
   "execution_count": null,
   "id": "9e91d243",
   "metadata": {},
   "outputs": [],
   "source": []
  }
 ],
 "metadata": {
  "kernelspec": {
   "display_name": "Python 3 (ipykernel)",
   "language": "python",
   "name": "python3"
  },
  "language_info": {
   "codemirror_mode": {
    "name": "ipython",
    "version": 3
   },
   "file_extension": ".py",
   "mimetype": "text/x-python",
   "name": "python",
   "nbconvert_exporter": "python",
   "pygments_lexer": "ipython3",
   "version": "3.12.7"
  }
 },
 "nbformat": 4,
 "nbformat_minor": 5
}
